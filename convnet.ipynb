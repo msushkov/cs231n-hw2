{
 "metadata": {
  "kernelspec": {
   "codemirror_mode": {
    "name": "ipython",
    "version": 2
   },
   "display_name": "IPython (Python 2)",
   "language": "python",
   "name": "python2"
  },
  "name": "",
  "signature": "sha256:ebd2f21cd07977b8d7f30cb8d7f61bf557352b04efd7fcbbf0bdd2c0bc4989f9"
 },
 "nbformat": 3,
 "nbformat_minor": 0,
 "worksheets": [
  {
   "cells": [
    {
     "cell_type": "markdown",
     "metadata": {},
     "source": [
      "# Train a ConvNet!\n",
      "We now have a generic solver and a bunch of modularized layers. It's time to put it all together, and train a ConvNet to recognize the classes in CIFAR-10. In this notebook we will walk you through training a simple two-layer ConvNet and then set you free to build the best net that you can to perform well on CIFAR-10.\n",
      "\n",
      "Open up the file `cs231n/classifiers/convnet.py`; you will see that the `two_layer_convnet` function computes the loss and gradients for a two-layer ConvNet. Note that this function uses the \"sandwich\" layers defined in `cs231n/layer_utils.py`. "
     ]
    },
    {
     "cell_type": "code",
     "collapsed": false,
     "input": [
      "# As usual, a bit of setup\n",
      "\n",
      "import numpy as np\n",
      "import matplotlib.pyplot as plt\n",
      "from cs231n.classifier_trainer import ClassifierTrainer\n",
      "from cs231n.gradient_check import eval_numerical_gradient\n",
      "from cs231n.classifiers.convnet import *\n",
      "\n",
      "%matplotlib inline\n",
      "plt.rcParams['figure.figsize'] = (10.0, 8.0) # set default size of plots\n",
      "plt.rcParams['image.interpolation'] = 'nearest'\n",
      "plt.rcParams['image.cmap'] = 'gray'\n",
      "\n",
      "# for auto-reloading external modules\n",
      "# see http://stackoverflow.com/questions/1907993/autoreload-of-modules-in-ipython\n",
      "%load_ext autoreload\n",
      "%autoreload 2\n",
      "\n",
      "def rel_error(x, y):\n",
      "  \"\"\" returns relative error \"\"\"\n",
      "  return np.max(np.abs(x - y) / (np.maximum(1e-8, np.abs(x) + np.abs(y))))"
     ],
     "language": "python",
     "metadata": {},
     "outputs": [],
     "prompt_number": 1
    },
    {
     "cell_type": "code",
     "collapsed": false,
     "input": [
      "from cs231n.data_utils import load_CIFAR10\n",
      "\n",
      "def get_CIFAR10_data(num_training=49000, num_validation=1000, num_test=1000):\n",
      "    \"\"\"\n",
      "    Load the CIFAR-10 dataset from disk and perform preprocessing to prepare\n",
      "    it for the two-layer neural net classifier. These are the same steps as\n",
      "    we used for the SVM, but condensed to a single function.  \n",
      "    \"\"\"\n",
      "    # Load the raw CIFAR-10 data\n",
      "    cifar10_dir = 'cs231n/datasets/cifar-10-batches-py'\n",
      "    X_train, y_train, X_test, y_test = load_CIFAR10(cifar10_dir)\n",
      "        \n",
      "    # Subsample the data\n",
      "    mask = range(num_training, num_training + num_validation)\n",
      "    X_val = X_train[mask]\n",
      "    y_val = y_train[mask]\n",
      "    mask = range(num_training)\n",
      "    X_train = X_train[mask]\n",
      "    y_train = y_train[mask]\n",
      "    mask = range(num_test)\n",
      "    X_test = X_test[mask]\n",
      "    y_test = y_test[mask]\n",
      "\n",
      "    # Normalize the data: subtract the mean image\n",
      "    mean_image = np.mean(X_train, axis=0)\n",
      "    X_train -= mean_image\n",
      "    X_val -= mean_image\n",
      "    X_test -= mean_image\n",
      "    \n",
      "    # Transpose so that channels come first\n",
      "    X_train = X_train.transpose(0, 3, 1, 2).copy()\n",
      "    X_val = X_val.transpose(0, 3, 1, 2).copy()\n",
      "    x_test = X_test.transpose(0, 3, 1, 2).copy()\n",
      "\n",
      "    return X_train, y_train, X_val, y_val, X_test, y_test\n",
      "\n",
      "\n",
      "# Invoke the above function to get our data.\n",
      "X_train, y_train, X_val, y_val, X_test, y_test = get_CIFAR10_data()\n",
      "print 'Train data shape: ', X_train.shape\n",
      "print 'Train labels shape: ', y_train.shape\n",
      "print 'Validation data shape: ', X_val.shape\n",
      "print 'Validation labels shape: ', y_val.shape\n",
      "print 'Test data shape: ', X_test.shape\n",
      "print 'Test labels shape: ', y_test.shape"
     ],
     "language": "python",
     "metadata": {},
     "outputs": [
      {
       "output_type": "stream",
       "stream": "stdout",
       "text": [
        "Train data shape:  (49000, 3, 32, 32)\n",
        "Train labels shape:  (49000,)\n",
        "Validation data shape:  (1000, 3, 32, 32)\n",
        "Validation labels shape:  (1000,)\n",
        "Test data shape:  (1000, 32, 32, 3)\n",
        "Test labels shape:  (1000,)\n"
       ]
      }
     ],
     "prompt_number": 2
    },
    {
     "cell_type": "markdown",
     "metadata": {},
     "source": [
      "# Sanity check loss\n",
      "After you build a new network, one of the first things you should do is sanity check the loss. When we use the softmax loss, we expect the loss for random weights (and no regularization) to be about `log(C)` for `C` classes. When we add regularization this should go up."
     ]
    },
    {
     "cell_type": "code",
     "collapsed": false,
     "input": [
      "model = init_two_layer_convnet()\n",
      "\n",
      "X = np.random.randn(100, 3, 32, 32)\n",
      "y = np.random.randint(10, size=100)\n",
      "\n",
      "loss, _ = two_layer_convnet(X, model, y, reg=0)\n",
      "\n",
      "# Sanity check: Loss should be about log(10) = 2.3026\n",
      "print 'Sanity check loss (no regularization): ', loss\n",
      "\n",
      "# Sanity check: Loss should go up when you add regularization\n",
      "loss, _ = two_layer_convnet(X, model, y, reg=1)\n",
      "print 'Sanity check loss (with regularization): ', loss"
     ],
     "language": "python",
     "metadata": {},
     "outputs": [
      {
       "output_type": "stream",
       "stream": "stdout",
       "text": [
        "Sanity check loss (no regularization):  2.302576118\n",
        "Sanity check loss (with regularization):  2.34439034008\n"
       ]
      }
     ],
     "prompt_number": 2
    },
    {
     "cell_type": "markdown",
     "metadata": {},
     "source": [
      "# Gradient check\n",
      "After the loss looks reasonable, you should always use numeric gradient checking to make sure that your backward pass is correct. When you use numeric gradient checking you should use a small amount of artifical data and a small number of neurons at each layer."
     ]
    },
    {
     "cell_type": "code",
     "collapsed": false,
     "input": [
      "num_inputs = 2\n",
      "input_shape = (3, 16, 16)\n",
      "reg = 0.0\n",
      "num_classes = 10\n",
      "X = np.random.randn(num_inputs, *input_shape)\n",
      "y = np.random.randint(num_classes, size=num_inputs)\n",
      "\n",
      "model = init_two_layer_convnet(num_filters=3, filter_size=3, input_shape=input_shape)\n",
      "loss, grads = two_layer_convnet(X, model, y)\n",
      "for param_name in sorted(grads):\n",
      "    f = lambda _: two_layer_convnet(X, model, y)[0]\n",
      "    param_grad_num = eval_numerical_gradient(f, model[param_name], verbose=False, h=1e-6)\n",
      "    e = rel_error(param_grad_num, grads[param_name])\n",
      "    print '%s max relative error: %e' % (param_name, rel_error(param_grad_num, grads[param_name]))"
     ],
     "language": "python",
     "metadata": {},
     "outputs": [
      {
       "output_type": "stream",
       "stream": "stdout",
       "text": [
        "W1 max relative error: 2.402039e-06\n",
        "W2 max relative error: 1.199006e-03\n",
        "b1 max relative error: 1.692808e-08\n",
        "b2 max relative error: 1.133388e-09\n"
       ]
      }
     ],
     "prompt_number": 6
    },
    {
     "cell_type": "markdown",
     "metadata": {},
     "source": [
      "# Overfit small data\n",
      "A nice trick is to train your model with just a few training samples. You should be able to overfit small datasets, which will result in very high training accuracy and comparatively low validation accuracy."
     ]
    },
    {
     "cell_type": "code",
     "collapsed": false,
     "input": [
      "# Use a two-layer ConvNet to overfit 50 training examples.\n",
      "\n",
      "model = init_two_layer_convnet()\n",
      "trainer = ClassifierTrainer()\n",
      "best_model, loss_history, train_acc_history, val_acc_history = trainer.train(\n",
      "          X_train[:50], y_train[:50], X_val, y_val, model, two_layer_convnet,\n",
      "          reg=0.001, momentum=0.9, learning_rate=0.0001, batch_size=10, num_epochs=10,\n",
      "          verbose=True)"
     ],
     "language": "python",
     "metadata": {},
     "outputs": [
      {
       "output_type": "stream",
       "stream": "stdout",
       "text": [
        "Finished epoch 0 / 10: cost 2.300073, train: 0.140000, val 0.098000, lr 1.000000e-04\n",
        "Finished epoch 1 / 10: cost 2.243339, train: 0.240000, val 0.138000, lr 9.500000e-05\n",
        "Finished epoch 2 / 10: cost 2.025656, train: 0.260000, val 0.147000, lr 9.025000e-05\n",
        "Finished epoch 3 / 10: cost 1.747161, train: 0.480000, val 0.170000, lr 8.573750e-05\n",
        "Finished epoch 4 / 10: cost 1.726339, train: 0.500000, val 0.169000, lr 8.145062e-05\n",
        "Finished epoch 5 / 10: cost 1.563638, train: 0.680000, val 0.184000, lr 7.737809e-05\n",
        "Finished epoch 6 / 10: cost 1.149822, train: 0.560000, val 0.167000, lr 7.350919e-05\n",
        "Finished epoch 7 / 10: cost 0.755356, train: 0.780000, val 0.150000, lr 6.983373e-05\n",
        "Finished epoch 8 / 10: cost 1.009009, train: 0.900000, val 0.200000, lr 6.634204e-05\n",
        "Finished epoch 9 / 10: cost 0.217258, train: 0.920000, val 0.183000, lr 6.302494e-05\n",
        "Finished epoch 10 / 10: cost 0.221872, train: 0.960000, val 0.160000, lr 5.987369e-05\n",
        "finished optimization. best validation accuracy: 0.200000\n"
       ]
      }
     ],
     "prompt_number": 7
    },
    {
     "cell_type": "markdown",
     "metadata": {},
     "source": [
      "Plotting the loss, training accuracy, and validation accuracy should show clear overfitting:"
     ]
    },
    {
     "cell_type": "code",
     "collapsed": false,
     "input": [
      "plt.subplot(2, 1, 1)\n",
      "plt.plot(loss_history)\n",
      "plt.xlabel('iteration')\n",
      "plt.ylabel('loss')\n",
      "\n",
      "plt.subplot(2, 1, 2)\n",
      "plt.plot(train_acc_history)\n",
      "plt.plot(val_acc_history)\n",
      "plt.legend(['train', 'val'], loc='upper left')\n",
      "plt.xlabel('epoch')\n",
      "plt.ylabel('accuracy')\n",
      "plt.show()"
     ],
     "language": "python",
     "metadata": {},
     "outputs": [
      {
       "metadata": {},
       "output_type": "display_data",
       "png": "[encoded data removed]",
       "text": [
        "<matplotlib.figure.Figure at 0x7f3e4edeb210>"
       ]
      }
     ],
     "prompt_number": 8
    },
    {
     "cell_type": "markdown",
     "metadata": {},
     "source": [
      "# Train the net\n",
      "Once the above works, training the net is the next thing to try. You can set the `acc_frequency` parameter to change the frequency at which the training and validation set accuracies are tested. If your parameters are set properly, you should see the training and validation accuracy start to improve within a hundred iterations, and you should be able to train a reasonable model with just one epoch.\n",
      "\n",
      "Using the parameters below you should be able to get around 50% accuracy on the validation set."
     ]
    },
    {
     "cell_type": "code",
     "collapsed": false,
     "input": [
      "model = init_two_layer_convnet(filter_size=7)\n",
      "trainer = ClassifierTrainer()\n",
      "best_model, loss_history, train_acc_history, val_acc_history = trainer.train(\n",
      "          X_train, y_train, X_val, y_val, model, two_layer_convnet,\n",
      "          reg=0.001, momentum=0.9, learning_rate=0.0001, batch_size=50, num_epochs=1,\n",
      "          acc_frequency=50, verbose=True)"
     ],
     "language": "python",
     "metadata": {},
     "outputs": []
    },
    {
     "cell_type": "markdown",
     "metadata": {},
     "source": [
      "# Visualize weights\n",
      "We can visualize the convolutional weights from the first layer. If everything worked properly, these will usually be edges and blobs of various colors and orientations."
     ]
    },
    {
     "cell_type": "code",
     "collapsed": false,
     "input": [
      "from cs231n.vis_utils import visualize_grid\n",
      "\n",
      "grid = visualize_grid(best_model['W1'].transpose(0, 2, 3, 1))\n",
      "plt.imshow(grid.astype('uint8'))"
     ],
     "language": "python",
     "metadata": {},
     "outputs": []
    },
    {
     "cell_type": "markdown",
     "metadata": {},
     "source": [
      "# Experiment!\n",
      "Experiment and try to get the best performance that you can on CIFAR-10 using a ConvNet. Here are some ideas to get you started:\n",
      "\n",
      "### Things you should try:\n",
      "- Filter size: Above we used 7x7; this makes pretty pictures but smaller filters may be more efficient\n",
      "- Number of filters: Above we used 32 filters. Do more or fewer do better?\n",
      "- Network depth: The network above has two layers of trainable parameters. Can you do better with a deeper network? You can implement alternative architectures in the file `cs231n/classifiers/convnet.py`. Some good architectures to try include:\n",
      "    - [conv-relu-pool]xN - conv - relu - [affine]xM - [softmax or SVM]\n",
      "    - [conv-relu-pool]XN - [affine]XM - [softmax or SVM]\n",
      "    - [conv-relu-conv-relu-pool]xN - [affine]xM - [softmax or SVM]\n",
      "\n",
      "### Tips for training\n",
      "For each network architecture that you try, you should tune the learning rate and regularization strength. When doing this there are a couple important things to keep in mind:\n",
      "\n",
      "- If the parameters are working well, you should see improvement within a few hundred iterations\n",
      "- Remember the course-to-fine approach for hyperparameter tuning: start by testing a large range of hyperparameters for just a few training iterations to find the combinations of parameters that are working at all.\n",
      "- Once you have found some sets of parameters that seem to work, search more finely around these parameters. You may need to train for more epochs.\n",
      "\n",
      "### Going above and beyond\n",
      "If you are feeling adventurous there are many other features you can implement to try and improve your performance. You are **not required** to implement any of these; however they would be good things to try for extra credit.\n",
      "\n",
      "- Alternative update steps: For the assignment we implemented SGD+momentum and RMSprop; you could try alternatives like AdaGrad or AdaDelta.\n",
      "- Other forms of regularization such as L1 or Dropout\n",
      "- Alternative activation functions such as leaky ReLU or maxout\n",
      "- Model ensembles\n",
      "- Data augmentation\n",
      "\n",
      "### What we expect\n",
      "At the very least, you should be able to train a ConvNet that gets at least 65% accuracy on the validation set. This is just a lower bound - if you are careful it should be possible to get accuracies much higher than that! Extra credit points will be awarded for particularly high-scoring models or unique approaches.\n",
      "\n",
      "You should use the space below to experiment and train your network. The final cell in this notebook should contain the training, validation, and test set accuracies for your final trained network. In this notebook you should also write an explanation of what you did, any additional features that you implemented, and any visualizations or graphs that you make in the process of training and evaluating your network.\n",
      "\n",
      "Have fun and happy training!"
     ]
    },
    {
     "cell_type": "code",
     "collapsed": false,
     "input": [
      "# TODO: Train a ConvNet to do really well on CIFAR-10!\n",
      "\n",
      "# Adding a second conv layer:\n",
      "# [conv-relu-pool]x2 - [affine] - [softmax]\n",
      "\n",
      "# sanity check loss\n",
      "\n",
      "model = init_three_layer_convnet()\n",
      "\n",
      "X = np.random.randn(100, 3, 32, 32)\n",
      "y = np.random.randint(10, size=100)\n",
      "\n",
      "loss, _ = three_layer_convnet(X, model, y, reg=0)\n",
      "\n",
      "# Sanity check: Loss should be about log(10) = 2.3026\n",
      "print 'Sanity check loss (no regularization): ', loss\n",
      "\n",
      "# Sanity check: Loss should go up when you add regularization\n",
      "loss, _ = three_layer_convnet(X, model, y, reg=1)\n",
      "print 'Sanity check loss (with regularization): ', loss\n",
      "\n",
      "print 'Gradient check:'\n",
      "num_inputs = 2\n",
      "input_shape = (3, 16, 16)\n",
      "reg = 0.0\n",
      "num_classes = 10\n",
      "X = np.random.randn(num_inputs, *input_shape)\n",
      "y = np.random.randint(num_classes, size=num_inputs)\n",
      "\n",
      "model = init_three_layer_convnet(num_filters_layer1=3, num_filters_layer2=6, filter_size=3, input_shape=input_shape)\n",
      "loss, grads = three_layer_convnet(X, model, y)\n",
      "for param_name in sorted(grads):\n",
      "    f = lambda _: three_layer_convnet(X, model, y)[0]\n",
      "    param_grad_num = eval_numerical_gradient(f, model[param_name], verbose=False, h=1e-6)\n",
      "    e = rel_error(param_grad_num, grads[param_name])\n",
      "    print '%s max relative error: %e' % (param_name, rel_error(param_grad_num, grads[param_name]))"
     ],
     "language": "python",
     "metadata": {},
     "outputs": [
      {
       "output_type": "stream",
       "stream": "stdout",
       "text": [
        "Sanity check loss (no regularization):  2.30258511337\n",
        "Sanity check loss (with regularization):  2.34996638807\n",
        "Gradient check:\n",
        "W1 max relative error: 1.095961e-03\n",
        "W2 max relative error: 2.784837e-04\n",
        "W3 max relative error: 3.029014e-03\n",
        "b1 max relative error: 7.181344e-05\n",
        "b2 max relative error: 7.435566e-02\n",
        "b3 max relative error: 1.225380e-09\n"
       ]
      }
     ],
     "prompt_number": 9
    },
    {
     "cell_type": "code",
     "collapsed": false,
     "input": [
      "print 'Overfit small data'\n",
      "model = init_three_layer_convnet(num_filters_layer1=32, num_filters_layer2=200, filter_size=7)\n",
      "trainer = ClassifierTrainer()\n",
      "best_model, loss_history, train_acc_history, val_acc_history = trainer.train(\n",
      "          X_train[:50], y_train[:50], X_val, y_val, model, three_layer_convnet,\n",
      "          reg=0.01, momentum=0.9, learning_rate=0.001, batch_size=10, num_epochs=10,\n",
      "          verbose=True)"
     ],
     "language": "python",
     "metadata": {},
     "outputs": [
      {
       "output_type": "stream",
       "stream": "stdout",
       "text": [
        "Overfit small data\n",
        "Finished epoch 0 / 10: cost 2.305370, train: 0.080000, val 0.095000, lr 1.000000e-03\n",
        "Finished epoch 1 / 10: cost 2.302800, train: 0.240000, val 0.081000, lr 9.500000e-04\n",
        "Finished epoch 2 / 10: cost 2.295454, train: 0.160000, val 0.081000, lr 9.025000e-04\n",
        "Finished epoch 3 / 10: cost 2.264002, train: 0.160000, val 0.080000, lr 8.573750e-04\n",
        "Finished epoch 4 / 10: cost 2.069922, train: 0.180000, val 0.116000, lr 8.145062e-04\n",
        "Finished epoch 5 / 10: cost 1.899498, train: 0.280000, val 0.121000, lr 7.737809e-04\n",
        "Finished epoch 6 / 10: cost 1.940106, train: 0.320000, val 0.166000, lr 7.350919e-04\n",
        "Finished epoch 7 / 10: cost 2.083996, train: 0.440000, val 0.155000, lr 6.983373e-04\n",
        "Finished epoch 8 / 10: cost 1.323030, train: 0.460000, val 0.161000, lr 6.634204e-04\n",
        "Finished epoch 9 / 10: cost 1.503460, train: 0.620000, val 0.145000, lr 6.302494e-04\n",
        "Finished epoch 10 / 10: cost 1.645346, train: 0.700000, val 0.161000, lr 5.987369e-04\n",
        "finished optimization. best validation accuracy: 0.166000\n"
       ]
      }
     ],
     "prompt_number": 18
    },
    {
     "cell_type": "code",
     "collapsed": false,
     "input": [
      "# do a full run with the above params and visualize weights\n",
      "model = init_three_layer_convnet(num_filters_layer1=32, num_filters_layer2=200, filter_size=7)\n",
      "trainer = ClassifierTrainer()\n",
      "best_model, loss_history, train_acc_history, val_acc_history = trainer.train(\n",
      "          X_train, y_train, X_val, y_val, model, three_layer_convnet,\n",
      "          reg=0.01, momentum=0.9, learning_rate=0.001, batch_size=50, num_epochs=1,\n",
      "          verbose=True)"
     ],
     "language": "python",
     "metadata": {},
     "outputs": [
      {
       "output_type": "stream",
       "stream": "stdout",
       "text": [
        "Finished epoch 0 / 1: cost 2.305356, train: 0.104000, val 0.127000, lr 1.000000e-03\n",
        "Finished epoch 1 / 1: cost 1.543045, train: 0.469000, val 0.477000, lr 9.500000e-04\n",
        "finished optimization. best validation accuracy: 0.477000\n"
       ]
      }
     ],
     "prompt_number": 19
    },
    {
     "cell_type": "code",
     "collapsed": false,
     "input": [
      "from cs231n.vis_utils import visualize_grid\n",
      "\n",
      "grid = visualize_grid(best_model['W1'].transpose(0, 2, 3, 1))\n",
      "plt.imshow(grid.astype('uint8'))"
     ],
     "language": "python",
     "metadata": {},
     "outputs": [
      {
       "metadata": {},
       "output_type": "pyout",
       "prompt_number": 20,
       "text": [
        "<matplotlib.image.AxesImage at 0x7f3e548dff90>"
       ]
      },
      {
       "metadata": {},
       "output_type": "display_data",
       "png": "[encoded data removed]",
       "text": [
        "<matplotlib.figure.Figure at 0x7f3e4ee62510>"
       ]
      }
     ],
     "prompt_number": 20
    },
    {
     "cell_type": "code",
     "collapsed": false,
     "input": [
      "# Run these parameters for 20 epochs\n",
      "model = init_three_layer_convnet(num_filters_layer1=32, num_filters_layer2=200, filter_size=7)\n",
      "trainer = ClassifierTrainer()\n",
      "best_model, loss_history, train_acc_history, val_acc_history = trainer.train(\n",
      "          X_train, y_train, X_val, y_val, model, three_layer_convnet,\n",
      "          reg=0.01, momentum=0.9, learning_rate=0.001, batch_size=50, num_epochs=20,\n",
      "          verbose=True)"
     ],
     "language": "python",
     "metadata": {},
     "outputs": [
      {
       "output_type": "stream",
       "stream": "stdout",
       "text": [
        "Finished epoch 0 / 20: cost 2.304345, train: 0.091000, val 0.112000, lr 1.000000e-03\n",
        "Finished epoch 1 / 20: cost 1.629287, train: 0.506000, val 0.498000, lr 9.500000e-04\n",
        "Finished epoch 2 / 20: cost 1.560467, train: 0.512000, val 0.513000, lr 9.025000e-04\n",
        "Finished epoch 3 / 20: cost 1.203880, train: 0.549000, val 0.487000, lr 8.573750e-04\n",
        "Finished epoch 4 / 20: cost 1.073222, train: 0.538000, val 0.521000, lr 8.145062e-04\n",
        "Finished epoch 5 / 20: cost 1.131551, train: 0.632000, val 0.568000, lr 7.737809e-04\n",
        "Finished epoch 6 / 20: cost 1.411188, train: 0.606000, val 0.565000, lr 7.350919e-04\n",
        "Finished epoch 7 / 20: cost 0.981972, train: 0.670000, val 0.624000, lr 6.983373e-04\n",
        "Finished epoch 8 / 20: cost 1.013363, train: 0.670000, val 0.603000, lr 6.634204e-04\n",
        "Finished epoch 9 / 20: cost 1.025502, train: 0.685000, val 0.617000, lr 6.302494e-04\n",
        "Finished epoch 10 / 20: cost 1.160800, train: 0.726000, val 0.635000, lr 5.987369e-04\n",
        "Finished epoch 11 / 20: cost 0.723442, train: 0.726000, val 0.620000, lr 5.688001e-04\n",
        "Finished epoch 12 / 20: cost 0.941630, train: 0.761000, val 0.661000, lr 5.403601e-04\n",
        "Finished epoch 13 / 20: cost 0.800948, train: 0.780000, val 0.664000, lr 5.133421e-04\n",
        "Finished epoch 14 / 20: cost 0.812342, train: 0.768000, val 0.644000, lr 4.876750e-04\n",
        "Finished epoch 15 / 20: cost 0.901654, train: 0.790000, val 0.678000, lr 4.632912e-04\n",
        "Finished epoch 16 / 20: cost 0.634939, train: 0.806000, val 0.656000, lr 4.401267e-04\n",
        "Finished epoch 17 / 20: cost 0.511064, train: 0.806000, val 0.663000, lr 4.181203e-04\n",
        "Finished epoch 18 / 20: cost 0.689067, train: 0.828000, val 0.667000, lr 3.972143e-04\n",
        "Finished epoch 19 / 20: cost 0.467507, train: 0.840000, val 0.673000, lr 3.773536e-04\n",
        "Finished epoch 20 / 20: cost 0.406440, train: 0.852000, val 0.678000, lr 3.584859e-04\n",
        "finished optimization. best validation accuracy: 0.678000\n"
       ]
      }
     ],
     "prompt_number": 21
    },
    {
     "cell_type": "code",
     "collapsed": false,
     "input": [
      "# Report train, val, test acuracies\n",
      "print \"Trainig accuracy: \" + str(train_acc_history[-1])\n",
      "\n",
      "print \"Validation accuracy: \" + str(val_acc_history[-1])\n",
      "\n",
      "scores_test = three_layer_convnet(X_test.transpose(0, 3, 1, 2).copy(), best_model)\n",
      "print 'Test accuracy: ', np.mean(np.argmax(scores_test, axis=1) == y_test)"
     ],
     "language": "python",
     "metadata": {},
     "outputs": [
      {
       "output_type": "stream",
       "stream": "stdout",
       "text": [
        "Trainig accuracy: 0.852\n",
        "Validation accuracy: 0.678\n",
        "Test accuracy:  0.653\n"
       ]
      }
     ],
     "prompt_number": 24
    },
    {
     "cell_type": "code",
     "collapsed": false,
     "input": [
      "# again, visualize the weights\n",
      "from cs231n.vis_utils import visualize_grid\n",
      "\n",
      "grid = visualize_grid(best_model['W1'].transpose(0, 2, 3, 1))\n",
      "plt.imshow(grid.astype('uint8'))"
     ],
     "language": "python",
     "metadata": {},
     "outputs": [
      {
       "metadata": {},
       "output_type": "pyout",
       "prompt_number": 22,
       "text": [
        "<matplotlib.image.AxesImage at 0x7f3e4ed37dd0>"
       ]
      },
      {
       "metadata": {},
       "output_type": "display_data",
       "png": "[encoded data removed]",
       "text": [
        "<matplotlib.figure.Figure at 0x7f3e4ee62090>"
       ]
      }
     ],
     "prompt_number": 22
    },
    {
     "cell_type": "code",
     "collapsed": false,
     "input": [
      "# Now, cross validate this network to see how much accuracy gain we can get.\n",
      "best_val_acc = -1.0\n",
      "best_train_acc = -1.0\n",
      "best_model_final = None\n",
      "\n",
      "# params to tune\n",
      "filter_sizes = [5]\n",
      "epochs = [1]\n",
      "regs = [5e-3, 1e-2, 5e-2] # 1e-2\n",
      "lrates = [5e-4, 1e-3, 5e-3] # 1e-3\n",
      "batch_sizes = [50] # 50\n",
      "num_filters1_lst = [24, 40] # 32\n",
      "num_filters2_lst = [200] # 200\n",
      "\n",
      "for lrate in lrates:\n",
      "    for reg_curr in regs:\n",
      "        for batch_size_curr in batch_sizes:\n",
      "            for filter_size_curr in filter_sizes:\n",
      "                for num_filters_curr1 in num_filters1_lst:\n",
      "                    for num_filters_curr2 in num_filters2_lst:\n",
      "                        for epoch_curr in epochs:\n",
      "                            print \"Learning rate = \" + str(lrate) + \"; reg = \" + str(reg_curr) + \"; Batch size = \" + str(batch_size_curr) + \"; filter size = \" + str(filter_size_curr) + \"; num filters 1 = \" + str(num_filters_curr1) + \"; num filters 2 = \" + str(num_filters_curr2) + \"; epochs = \" + str(epoch_curr)\n",
      "\n",
      "                            model = init_three_layer_convnet(filter_size=filter_size_curr, num_filters_layer1=num_filters_curr2, num_filters_layer2=num_filters_curr2)\n",
      "                            trainer = ClassifierTrainer()\n",
      "                            best_model, loss_history, train_acc_history, val_acc_history = trainer.train(\n",
      "                                      X_train, y_train, X_val, y_val, model, three_layer_convnet,\n",
      "                                      reg=reg_curr, momentum=0.9, learning_rate=lrate, batch_size=batch_size_curr,\n",
      "                                      num_epochs=epoch_curr, acc_frequency=50, verbose=True)\n",
      "\n",
      "                            curr_val_acc = np.max(val_acc_history)\n",
      "                            curr_val_acc_index = np.argmax(val_acc_history)\n",
      "\n",
      "                            print \"Validation accuracy = \" + str(curr_val_acc)\n",
      "\n",
      "                            if curr_val_acc > best_val_acc:\n",
      "                                best_val_acc = curr_val_acc\n",
      "                                best_model_final = best_model\n",
      "                                best_train_acc = train_acc_history[curr_val_acc_index]\n",
      "\n",
      "print \"Best validation accuracy: \" + str(best_val_acc)\n",
      "print \"Training accuracy: \" + str(best_train_acc)\n",
      "\n",
      "scores_test = two_layer_convnet(X_test.transpose(0, 3, 1, 2).copy(), best_model_final)\n",
      "print 'Test accuracy: ', np.mean(np.argmax(scores_test, axis=1) == y_test)\n"
     ],
     "language": "python",
     "metadata": {},
     "outputs": []
    },
    {
     "cell_type": "code",
     "collapsed": false,
     "input": [
      "scores_test = three_layer_convnet(X_test, best_model_final)\n",
      "print 'Test accuracy: ', np.mean(np.argmax(scores_test, axis=1) == y_test)\n",
      "\n",
      "\n",
      "\n",
      "from cs231n.vis_utils import visualize_grid\n",
      "\n",
      "grid = visualize_grid(best_model_final['W1'].transpose(0, 2, 3, 1))\n",
      "plt.imshow(grid.astype('uint8'))"
     ],
     "language": "python",
     "metadata": {},
     "outputs": []
    }
   ],
   "metadata": {}
  }
 ]
}